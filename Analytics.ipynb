{
 "cells": [
  {
   "cell_type": "markdown",
   "id": "dadf35c1",
   "metadata": {},
   "source": [
    "# TC1002S Herramientas computacionales: el arte de la analítica\n",
    "\n",
    "This is a notebook with all your work for the final evidence of this course\n",
    "\n",
    "\n",
    "# Niveles de dominio a demostrar con la evidencia\n",
    "\n",
    "### SING0202A\n",
    "\n",
    "Interpreta interacciones entre variables relevantes en un problema, como base para la construcción de modelos bivariados basados en datos de un fenómeno investigado que le permita reproducir la respuesta del mismo. Es capaz de construir modelos bivariados que expliquen el comportamiento de un fenómeno.\n",
    "\n",
    "\n",
    "# Student information\n",
    "\n",
    "- Name: Diego Sánchez Luna\n",
    "\n",
    "- ID: A00227831\n",
    "\n",
    "- My carreer: Ingeniería en Tecnologías Computacionales\n"
   ]
  },
  {
   "cell_type": "markdown",
   "id": "b8151806",
   "metadata": {},
   "source": [
    "## Import libs"
   ]
  },
  {
   "cell_type": "code",
   "execution_count": 2,
   "id": "20e022b0",
   "metadata": {},
   "outputs": [],
   "source": [
    "# Import the packages that we will be using\n",
    "import pandas as pd\n",
    "import matplotlib.pyplot as plt\n",
    "import seaborn as sns\n",
    "import numpy as np\n",
    "from sklearn.cluster import KMeans\n",
    "from sklearn.datasets import load_digits\n",
    "\n",
    "\n",
    "# Define where you are running the code: colab or local\n",
    "RunInColab = False # (False: no | True: yes)\n",
    "# If running in colab:\n",
    "if RunInColab:\n",
    "    # Mount your google drive in google colab\n",
    "    from google.colab import drive\n",
    "    drive.mount('/content/drive')\n",
    "    # Find location\n",
    "    #!pwd\n",
    "    #!ls\n",
    "    #!ls \"/content/drive/My Drive/Colab Notebooks/MachineLearningWithPython/\"\n",
    "    # Define path del proyecto\n",
    "    Ruta = \"/content/drive/My Drive/Colab Notebooks/MachineLearningWithPython/\"\n",
    "else:\n",
    "    # Define path del proyecto\n",
    "    Ruta = \"C:/Users/GeekD/OneDrive/Documents/GitHub/TC1002S\"\n",
    "    URL = Ruta + \"/Evidencia/a00227831.csv\""
   ]
  },
  {
   "cell_type": "markdown",
   "id": "f9589036",
   "metadata": {},
   "source": [
    "# Part 1\n",
    "\n",
    "## **Using your assigned dataset:**\n",
    "\n",
    "## A1 Load data"
   ]
  },
  {
   "cell_type": "code",
   "execution_count": 3,
   "id": "23a7b830",
   "metadata": {},
   "outputs": [],
   "source": [
    "df = pd.read_csv(URL)"
   ]
  },
  {
   "cell_type": "markdown",
   "id": "e2c60fb0",
   "metadata": {},
   "source": [
    "## A2 Data management\n",
    "Print the first 7 rows"
   ]
  },
  {
   "cell_type": "code",
   "execution_count": 4,
   "id": "2675563f",
   "metadata": {},
   "outputs": [
    {
     "data": {
      "text/html": [
       "<div>\n",
       "<style scoped>\n",
       "    .dataframe tbody tr th:only-of-type {\n",
       "        vertical-align: middle;\n",
       "    }\n",
       "\n",
       "    .dataframe tbody tr th {\n",
       "        vertical-align: top;\n",
       "    }\n",
       "\n",
       "    .dataframe thead th {\n",
       "        text-align: right;\n",
       "    }\n",
       "</style>\n",
       "<table border=\"1\" class=\"dataframe\">\n",
       "  <thead>\n",
       "    <tr style=\"text-align: right;\">\n",
       "      <th></th>\n",
       "      <th>Unnamed: 0</th>\n",
       "      <th>x1</th>\n",
       "      <th>x2</th>\n",
       "    </tr>\n",
       "  </thead>\n",
       "  <tbody>\n",
       "    <tr>\n",
       "      <th>0</th>\n",
       "      <td>0</td>\n",
       "      <td>1.030877</td>\n",
       "      <td>0.363515</td>\n",
       "    </tr>\n",
       "    <tr>\n",
       "      <th>1</th>\n",
       "      <td>1</td>\n",
       "      <td>0.677208</td>\n",
       "      <td>0.955959</td>\n",
       "    </tr>\n",
       "    <tr>\n",
       "      <th>2</th>\n",
       "      <td>2</td>\n",
       "      <td>-0.382497</td>\n",
       "      <td>1.130047</td>\n",
       "    </tr>\n",
       "    <tr>\n",
       "      <th>3</th>\n",
       "      <td>3</td>\n",
       "      <td>-0.319295</td>\n",
       "      <td>0.089919</td>\n",
       "    </tr>\n",
       "    <tr>\n",
       "      <th>4</th>\n",
       "      <td>4</td>\n",
       "      <td>-0.386405</td>\n",
       "      <td>1.624755</td>\n",
       "    </tr>\n",
       "    <tr>\n",
       "      <th>5</th>\n",
       "      <td>5</td>\n",
       "      <td>-0.749479</td>\n",
       "      <td>1.441339</td>\n",
       "    </tr>\n",
       "    <tr>\n",
       "      <th>6</th>\n",
       "      <td>6</td>\n",
       "      <td>-0.298645</td>\n",
       "      <td>0.152692</td>\n",
       "    </tr>\n",
       "  </tbody>\n",
       "</table>\n",
       "</div>"
      ],
      "text/plain": [
       "   Unnamed: 0        x1        x2\n",
       "0           0  1.030877  0.363515\n",
       "1           1  0.677208  0.955959\n",
       "2           2 -0.382497  1.130047\n",
       "3           3 -0.319295  0.089919\n",
       "4           4 -0.386405  1.624755\n",
       "5           5 -0.749479  1.441339\n",
       "6           6 -0.298645  0.152692"
      ]
     },
     "execution_count": 4,
     "metadata": {},
     "output_type": "execute_result"
    }
   ],
   "source": [
    "df.iloc[0:7,:]"
   ]
  },
  {
   "cell_type": "markdown",
   "id": "863506f5",
   "metadata": {},
   "source": [
    "Print the 4 last rows"
   ]
  },
  {
   "cell_type": "code",
   "execution_count": 5,
   "id": "626fc607",
   "metadata": {},
   "outputs": [
    {
     "data": {
      "text/html": [
       "<div>\n",
       "<style scoped>\n",
       "    .dataframe tbody tr th:only-of-type {\n",
       "        vertical-align: middle;\n",
       "    }\n",
       "\n",
       "    .dataframe tbody tr th {\n",
       "        vertical-align: top;\n",
       "    }\n",
       "\n",
       "    .dataframe thead th {\n",
       "        text-align: right;\n",
       "    }\n",
       "</style>\n",
       "<table border=\"1\" class=\"dataframe\">\n",
       "  <thead>\n",
       "    <tr style=\"text-align: right;\">\n",
       "      <th></th>\n",
       "      <th>Unnamed: 0</th>\n",
       "      <th>x1</th>\n",
       "      <th>x2</th>\n",
       "    </tr>\n",
       "  </thead>\n",
       "  <tbody>\n",
       "    <tr>\n",
       "      <th>996</th>\n",
       "      <td>996</td>\n",
       "      <td>1.049360</td>\n",
       "      <td>0.128261</td>\n",
       "    </tr>\n",
       "    <tr>\n",
       "      <th>997</th>\n",
       "      <td>997</td>\n",
       "      <td>0.991189</td>\n",
       "      <td>0.298544</td>\n",
       "    </tr>\n",
       "    <tr>\n",
       "      <th>998</th>\n",
       "      <td>998</td>\n",
       "      <td>0.700671</td>\n",
       "      <td>-0.888454</td>\n",
       "    </tr>\n",
       "    <tr>\n",
       "      <th>999</th>\n",
       "      <td>999</td>\n",
       "      <td>1.124124</td>\n",
       "      <td>-0.131446</td>\n",
       "    </tr>\n",
       "  </tbody>\n",
       "</table>\n",
       "</div>"
      ],
      "text/plain": [
       "     Unnamed: 0        x1        x2\n",
       "996         996  1.049360  0.128261\n",
       "997         997  0.991189  0.298544\n",
       "998         998  0.700671 -0.888454\n",
       "999         999  1.124124 -0.131446"
      ]
     },
     "execution_count": 5,
     "metadata": {},
     "output_type": "execute_result"
    }
   ],
   "source": [
    "df.tail(4)"
   ]
  },
  {
   "cell_type": "markdown",
   "id": "6bb5ca7f",
   "metadata": {},
   "source": [
    "How many rows and columns are in your data?"
   ]
  },
  {
   "cell_type": "code",
   "execution_count": 6,
   "id": "d2faeb42",
   "metadata": {},
   "outputs": [
    {
     "name": "stdout",
     "output_type": "stream",
     "text": [
      "Columnas: 3\t\tFilas: 1000\n"
     ]
    }
   ],
   "source": [
    "print(\"Columnas: \"+str(df.shape[1])+\"\\t\\tFilas: \"+str(df.shape[0]))"
   ]
  },
  {
   "cell_type": "markdown",
   "id": "b7d44739",
   "metadata": {},
   "source": [
    "Print the name of all the columns"
   ]
  },
  {
   "cell_type": "code",
   "execution_count": 7,
   "id": "8d0a530d",
   "metadata": {},
   "outputs": [
    {
     "data": {
      "text/plain": [
       "Index(['Unnamed: 0', 'x1', 'x2'], dtype='object')"
      ]
     },
     "execution_count": 7,
     "metadata": {},
     "output_type": "execute_result"
    }
   ],
   "source": [
    "df.columns  "
   ]
  },
  {
   "cell_type": "markdown",
   "id": "a84197ad",
   "metadata": {},
   "source": [
    "What is the data type in each column"
   ]
  },
  {
   "cell_type": "code",
   "execution_count": 8,
   "id": "00ac2385",
   "metadata": {},
   "outputs": [
    {
     "data": {
      "text/plain": [
       "Unnamed: 0      int64\n",
       "x1            float64\n",
       "x2            float64\n",
       "dtype: object"
      ]
     },
     "execution_count": 8,
     "metadata": {},
     "output_type": "execute_result"
    }
   ],
   "source": [
    "df.dtypes"
   ]
  },
  {
   "cell_type": "markdown",
   "id": "632ff81c",
   "metadata": {},
   "source": [
    "What is the meaning of rows and columns?\n",
    "\n",
    "    1) ID del registro, se encuentra duplicada por la función de lectura de pandas\n",
    "    2) Medida flotante en la dimensión x1\n",
    "    3) Medida flotante en la dimensión x2"
   ]
  },
  {
   "cell_type": "markdown",
   "id": "92636968",
   "metadata": {},
   "source": [
    "Print a statistical summary of your columns"
   ]
  },
  {
   "cell_type": "code",
   "execution_count": 9,
   "id": "f9b63f50",
   "metadata": {},
   "outputs": [
    {
     "data": {
      "text/html": [
       "<div>\n",
       "<style scoped>\n",
       "    .dataframe tbody tr th:only-of-type {\n",
       "        vertical-align: middle;\n",
       "    }\n",
       "\n",
       "    .dataframe tbody tr th {\n",
       "        vertical-align: top;\n",
       "    }\n",
       "\n",
       "    .dataframe thead th {\n",
       "        text-align: right;\n",
       "    }\n",
       "</style>\n",
       "<table border=\"1\" class=\"dataframe\">\n",
       "  <thead>\n",
       "    <tr style=\"text-align: right;\">\n",
       "      <th></th>\n",
       "      <th>Unnamed: 0</th>\n",
       "      <th>x1</th>\n",
       "      <th>x2</th>\n",
       "    </tr>\n",
       "  </thead>\n",
       "  <tbody>\n",
       "    <tr>\n",
       "      <th>count</th>\n",
       "      <td>1000.000000</td>\n",
       "      <td>1000.000000</td>\n",
       "      <td>1000.000000</td>\n",
       "    </tr>\n",
       "    <tr>\n",
       "      <th>mean</th>\n",
       "      <td>499.500000</td>\n",
       "      <td>0.252284</td>\n",
       "      <td>0.495796</td>\n",
       "    </tr>\n",
       "    <tr>\n",
       "      <th>std</th>\n",
       "      <td>288.819436</td>\n",
       "      <td>0.523188</td>\n",
       "      <td>0.889624</td>\n",
       "    </tr>\n",
       "    <tr>\n",
       "      <th>min</th>\n",
       "      <td>0.000000</td>\n",
       "      <td>-0.821863</td>\n",
       "      <td>-1.445373</td>\n",
       "    </tr>\n",
       "    <tr>\n",
       "      <th>25%</th>\n",
       "      <td>249.750000</td>\n",
       "      <td>-0.226073</td>\n",
       "      <td>-0.120925</td>\n",
       "    </tr>\n",
       "    <tr>\n",
       "      <th>50%</th>\n",
       "      <td>499.500000</td>\n",
       "      <td>0.271606</td>\n",
       "      <td>0.518328</td>\n",
       "    </tr>\n",
       "    <tr>\n",
       "      <th>75%</th>\n",
       "      <td>749.250000</td>\n",
       "      <td>0.697908</td>\n",
       "      <td>1.100311</td>\n",
       "    </tr>\n",
       "    <tr>\n",
       "      <th>max</th>\n",
       "      <td>999.000000</td>\n",
       "      <td>1.331401</td>\n",
       "      <td>2.451351</td>\n",
       "    </tr>\n",
       "  </tbody>\n",
       "</table>\n",
       "</div>"
      ],
      "text/plain": [
       "        Unnamed: 0           x1           x2\n",
       "count  1000.000000  1000.000000  1000.000000\n",
       "mean    499.500000     0.252284     0.495796\n",
       "std     288.819436     0.523188     0.889624\n",
       "min       0.000000    -0.821863    -1.445373\n",
       "25%     249.750000    -0.226073    -0.120925\n",
       "50%     499.500000     0.271606     0.518328\n",
       "75%     749.250000     0.697908     1.100311\n",
       "max     999.000000     1.331401     2.451351"
      ]
     },
     "execution_count": 9,
     "metadata": {},
     "output_type": "execute_result"
    }
   ],
   "source": [
    "df.describe()"
   ]
  },
  {
   "cell_type": "markdown",
   "id": "f60f4633",
   "metadata": {},
   "source": [
    "Answer:\n",
    "\n",
    "\n",
    "    1) What is the minimum and maximum values of each variable?\n",
    "            Max                                 Min\n",
    "        unnamed: 999                         unnamed: 0\n",
    "        x1: 1.331401                         x1: -0.821863\n",
    "        x2: 2.451351                         x2: -1.445373\n",
    "        \n",
    "        \n",
    "    2) What is the mean and standar deviation of each variable\n",
    "           Mean                                 STD\n",
    "        unnamed: 499.5                  unnamed: 288.819436\n",
    "        x1: 0.252284                       x1: 0.523188\n",
    "        x2: 0.495796                       x2: 0.889624\n",
    "        \n",
    "        \n",
    "    3) What the 25%, 50% and 75% represent?\n",
    "        Se trata de los cuartiles de nuestro conjunto de datos y se distribuyen de la siguiente manera\n",
    "        - 25%.-\t25% de los datos es menor que o igual a este valor.\n",
    "        - 50%.-\tLa mediana. 50% de los datos es menor que o igual a este valor.\n",
    "        - 75%.-\t75% de los datos es menor que o igual a este valor."
   ]
  },
  {
   "cell_type": "markdown",
   "id": "d05bddff",
   "metadata": {},
   "source": [
    "Rename the columns using the same name with capital letters"
   ]
  },
  {
   "cell_type": "code",
   "execution_count": 10,
   "id": "66c40c30",
   "metadata": {},
   "outputs": [],
   "source": [
    "df = df.rename(columns={\"Unnamed: 0\": \"Index\", \"x1\" : \"X1\", \"x2\" : \"X2\"})"
   ]
  },
  {
   "cell_type": "markdown",
   "id": "d351da11",
   "metadata": {},
   "source": [
    "Rename the columns to their original names"
   ]
  },
  {
   "cell_type": "code",
   "execution_count": 11,
   "id": "f9778403",
   "metadata": {},
   "outputs": [],
   "source": [
    "df = df.rename(columns={\"Index\": \"Unnamed: 0\", \"X1\" : \"x1\", \"X2\" : \"x2\"})"
   ]
  },
  {
   "cell_type": "markdown",
   "id": "17687a5d",
   "metadata": {},
   "source": [
    "Use two different alternatives to get one of the columns"
   ]
  },
  {
   "cell_type": "code",
   "execution_count": 12,
   "id": "acd65ff5",
   "metadata": {},
   "outputs": [
    {
     "name": "stdout",
     "output_type": "stream",
     "text": [
      "0      1.030877\n",
      "1      0.677208\n",
      "2     -0.382497\n",
      "3     -0.319295\n",
      "4     -0.386405\n",
      "         ...   \n",
      "995    0.058066\n",
      "996    1.049360\n",
      "997    0.991189\n",
      "998    0.700671\n",
      "999    1.124124\n",
      "Name: x1, Length: 1000, dtype: float64\n",
      "\n",
      "0      1.030877\n",
      "1      0.677208\n",
      "2     -0.382497\n",
      "3     -0.319295\n",
      "4     -0.386405\n",
      "         ...   \n",
      "995    0.058066\n",
      "996    1.049360\n",
      "997    0.991189\n",
      "998    0.700671\n",
      "999    1.124124\n",
      "Name: x1, Length: 1000, dtype: float64\n"
     ]
    }
   ],
   "source": [
    "print(df[\"x1\"])\n",
    "print('\\n'+str(df.iloc[:,1]))"
   ]
  },
  {
   "cell_type": "markdown",
   "id": "0e88d7cb",
   "metadata": {},
   "source": [
    "Get a slice of your dataset second and third columns and rows from 62 to 72"
   ]
  },
  {
   "cell_type": "code",
   "execution_count": 13,
   "id": "25debad3",
   "metadata": {},
   "outputs": [
    {
     "data": {
      "text/html": [
       "<div>\n",
       "<style scoped>\n",
       "    .dataframe tbody tr th:only-of-type {\n",
       "        vertical-align: middle;\n",
       "    }\n",
       "\n",
       "    .dataframe tbody tr th {\n",
       "        vertical-align: top;\n",
       "    }\n",
       "\n",
       "    .dataframe thead th {\n",
       "        text-align: right;\n",
       "    }\n",
       "</style>\n",
       "<table border=\"1\" class=\"dataframe\">\n",
       "  <thead>\n",
       "    <tr style=\"text-align: right;\">\n",
       "      <th></th>\n",
       "      <th>x2</th>\n",
       "    </tr>\n",
       "  </thead>\n",
       "  <tbody>\n",
       "    <tr>\n",
       "      <th>62</th>\n",
       "      <td>0.076857</td>\n",
       "    </tr>\n",
       "    <tr>\n",
       "      <th>63</th>\n",
       "      <td>-0.012296</td>\n",
       "    </tr>\n",
       "    <tr>\n",
       "      <th>64</th>\n",
       "      <td>-0.427920</td>\n",
       "    </tr>\n",
       "    <tr>\n",
       "      <th>65</th>\n",
       "      <td>2.148473</td>\n",
       "    </tr>\n",
       "    <tr>\n",
       "      <th>66</th>\n",
       "      <td>1.565853</td>\n",
       "    </tr>\n",
       "    <tr>\n",
       "      <th>67</th>\n",
       "      <td>2.153031</td>\n",
       "    </tr>\n",
       "    <tr>\n",
       "      <th>68</th>\n",
       "      <td>0.426566</td>\n",
       "    </tr>\n",
       "    <tr>\n",
       "      <th>69</th>\n",
       "      <td>-0.309148</td>\n",
       "    </tr>\n",
       "    <tr>\n",
       "      <th>70</th>\n",
       "      <td>-0.824856</td>\n",
       "    </tr>\n",
       "    <tr>\n",
       "      <th>71</th>\n",
       "      <td>0.798802</td>\n",
       "    </tr>\n",
       "  </tbody>\n",
       "</table>\n",
       "</div>"
      ],
      "text/plain": [
       "          x2\n",
       "62  0.076857\n",
       "63 -0.012296\n",
       "64 -0.427920\n",
       "65  2.148473\n",
       "66  1.565853\n",
       "67  2.153031\n",
       "68  0.426566\n",
       "69 -0.309148\n",
       "70 -0.824856\n",
       "71  0.798802"
      ]
     },
     "execution_count": 13,
     "metadata": {},
     "output_type": "execute_result"
    }
   ],
   "source": [
    "df.iloc[62:72, 2:3]"
   ]
  },
  {
   "cell_type": "markdown",
   "id": "e854bf54",
   "metadata": {},
   "source": [
    "For the second and thrid columns, calculate the number of null and not null values and verify that their sum equals the total number of rows"
   ]
  },
  {
   "cell_type": "code",
   "execution_count": 14,
   "id": "96c9c6e8",
   "metadata": {},
   "outputs": [
    {
     "name": "stdout",
     "output_type": "stream",
     "text": [
      "Valores nulos: x2    0\n",
      "dtype: int64\n",
      "\n",
      "Valores no nulos: x2    1000\n",
      "dtype: int64\n"
     ]
    }
   ],
   "source": [
    "print(\"Valores nulos: \"+str(df.iloc[:,2:3].isnull().sum())+\n",
    "     \"\\n\\nValores no nulos: \"+str(df.iloc[:,2:3].notnull().sum()))"
   ]
  },
  {
   "cell_type": "markdown",
   "id": "3f8e00ab",
   "metadata": {},
   "source": [
    "Discard the last column (Index in this case)"
   ]
  },
  {
   "cell_type": "code",
   "execution_count": 15,
   "id": "81ea5dad",
   "metadata": {},
   "outputs": [],
   "source": [
    "df.drop(\"Unnamed: 0\", axis=1, inplace = True)"
   ]
  },
  {
   "cell_type": "markdown",
   "id": "0f013c3b",
   "metadata": {},
   "source": [
    "**Questions**\n",
    "\n",
    "Based on the previous results, provide a description of your dataset.\n",
    "\n",
    "Your response:\n",
    "\n",
    "\n",
    "En este dataset se nos brindan dos columnas con datos de medición en el rango de los números reales en las dimensiones x1 y x2, dándonos los valores necesarios para graficar."
   ]
  },
  {
   "cell_type": "markdown",
   "id": "fbdda3bc",
   "metadata": {},
   "source": [
    "## A3 Data visualization\n",
    "\n",
    "Plot in the same figure the histogram of the two variables"
   ]
  },
  {
   "cell_type": "code",
   "execution_count": 16,
   "id": "1b6c696d",
   "metadata": {},
   "outputs": [
    {
     "data": {
      "image/png": "[encoded data removed]",
      "text/plain": [
       "<Figure size 432x288 with 1 Axes>"
      ]
     },
     "metadata": {
      "needs_background": "light"
     },
     "output_type": "display_data"
    }
   ],
   "source": [
    "plt.hist(df.x1, alpha = .3, ls = \"dotted\", edgecolor = \"black\")\n",
    "plt.hist(df.x2, alpha = .3)\n",
    "plt.title(\"X1 & X2\")\n",
    "plt.xlabel(\"Valor\")\n",
    "plt.ylabel(\"Repeticiones\")\n",
    "plt.legend([\"X1\", \"X2\"])\n",
    "plt.show()"
   ]
  },
  {
   "cell_type": "markdown",
   "id": "ae46a9ca",
   "metadata": {},
   "source": [
    "**Based on this plots, provide a description of your data**\n",
    "\n",
    "Your response here:\n",
    "    \n",
    "Como podemos observar en el histograma, los registros de la variable x1 tienen un rango mucho menor a aquellos encontrados en la variable x2. Además de que estas se concentran principalmente en los valores centrales entre -0.5 y 1.5."
   ]
  },
  {
   "cell_type": "markdown",
   "id": "a816c762",
   "metadata": {},
   "source": [
    "Plot in the same figure the boxplot of the two variables"
   ]
  },
  {
   "cell_type": "code",
   "execution_count": 17,
   "id": "3c76426a",
   "metadata": {},
   "outputs": [
    {
     "name": "stderr",
     "output_type": "stream",
     "text": [
      "C:\\Users\\GeekD\\anaconda3\\lib\\site-packages\\seaborn\\categorical.py:82: FutureWarning: iteritems is deprecated and will be removed in a future version. Use .items instead.\n",
      "  plot_data = [np.asarray(s, float) for k, s in iter_data]\n"
     ]
    },
    {
     "data": {
      "image/png": "[encoded data removed]",
      "text/plain": [
       "<Figure size 432x288 with 1 Axes>"
      ]
     },
     "metadata": {
      "needs_background": "light"
     },
     "output_type": "display_data"
    }
   ],
   "source": [
    "sns.boxplot(data=df, orient=\"v\")\n",
    "plt.ylabel(\"Tamaño\")\n",
    "plt.xlabel(\"Variable\")\n",
    "plt.title(\"Mediciones\")\n",
    "plt.show()"
   ]
  },
  {
   "cell_type": "markdown",
   "id": "be52e871",
   "metadata": {},
   "source": [
    "Scatter plot of the two variables"
   ]
  },
  {
   "cell_type": "code",
   "execution_count": 18,
   "id": "877e6d1f",
   "metadata": {},
   "outputs": [
    {
     "data": {
      "image/png": "[encoded data removed]",
      "text/plain": [
       "<Figure size 432x288 with 1 Axes>"
      ]
     },
     "metadata": {
      "needs_background": "light"
     },
     "output_type": "display_data"
    }
   ],
   "source": [
    "plt.scatter(df.x1, df.x2, alpha = 0.6)\n",
    "plt.title(\"Mediciones\")\n",
    "plt.xlabel(\"x1\")\n",
    "plt.ylabel(\"x2\")\n",
    "\n",
    "\n",
    "plt.show()"
   ]
  },
  {
   "cell_type": "markdown",
   "id": "b9e2eeab",
   "metadata": {},
   "source": [
    "### Questions \n",
    "\n",
    "Based on the previous plots, provide a description of yout dataset\n",
    "\n",
    "Your response:\n",
    "    Con estas gráficas volvemos a ver la diferencia que hay entre las dos mediciones, siendo x2 aquella con valores más altos. Dicho esto, podemos ver que forman una especie de figura con los valores en la gráfica de dispersión, dando a entender que existe un patrón entre ellos.\n"
   ]
  },
  {
   "cell_type": "markdown",
   "id": "acc5befb",
   "metadata": {},
   "source": [
    "# A4 Kmeans"
   ]
  },
  {
   "cell_type": "markdown",
   "id": "d40252d8",
   "metadata": {},
   "source": [
    "Do Kmeans clusterin assuming a number of clusters according to your scatter plot."
   ]
  },
  {
   "cell_type": "code",
   "execution_count": 19,
   "id": "efd0f1f9",
   "metadata": {},
   "outputs": [
    {
     "name": "stderr",
     "output_type": "stream",
     "text": [
      "C:\\Users\\GeekD\\anaconda3\\lib\\site-packages\\sklearn\\cluster\\_kmeans.py:1382: UserWarning: KMeans is known to have a memory leak on Windows with MKL, when there are less chunks than available threads. You can avoid it by setting the environment variable OMP_NUM_THREADS=4.\n",
      "  warnings.warn(\n"
     ]
    }
   ],
   "source": [
    "K = 2\n",
    "\n",
    "km = KMeans(n_clusters = K, n_init=\"auto\", random_state = 10)\n",
    "\n",
    "clusters = km.fit_predict(df)"
   ]
  },
  {
   "cell_type": "markdown",
   "id": "1acbadce",
   "metadata": {},
   "source": [
    "Add to your dataset a column with the assigned cluster to each data point"
   ]
  },
  {
   "cell_type": "code",
   "execution_count": 20,
   "id": "0b79467d",
   "metadata": {},
   "outputs": [],
   "source": [
    "df[\"Cluster\"] = clusters"
   ]
  },
  {
   "cell_type": "markdown",
   "id": "3a7c0f81",
   "metadata": {},
   "source": [
    "Print the number associated to each cluster"
   ]
  },
  {
   "cell_type": "code",
   "execution_count": 21,
   "id": "7b01b200",
   "metadata": {},
   "outputs": [
    {
     "data": {
      "text/plain": [
       "array([1, 0])"
      ]
     },
     "execution_count": 21,
     "metadata": {},
     "output_type": "execute_result"
    }
   ],
   "source": [
    "df.Cluster.unique()"
   ]
  },
  {
   "cell_type": "markdown",
   "id": "0821cca4",
   "metadata": {},
   "source": [
    "Print the centroids"
   ]
  },
  {
   "cell_type": "code",
   "execution_count": 22,
   "id": "67643b60",
   "metadata": {},
   "outputs": [
    {
     "data": {
      "text/plain": [
       "array([[-0.05853023,  1.1860911 ],\n",
       "       [ 0.58765386, -0.24903409]])"
      ]
     },
     "execution_count": 22,
     "metadata": {},
     "output_type": "execute_result"
    }
   ],
   "source": [
    "kmc = km.cluster_centers_\n",
    "kmc"
   ]
  },
  {
   "cell_type": "markdown",
   "id": "842b0688",
   "metadata": {},
   "source": [
    "Print the inertia metric"
   ]
  },
  {
   "cell_type": "code",
   "execution_count": 23,
   "id": "f7b2f9a6",
   "metadata": {},
   "outputs": [
    {
     "data": {
      "text/plain": [
       "445.70005424389325"
      ]
     },
     "execution_count": 23,
     "metadata": {},
     "output_type": "execute_result"
    }
   ],
   "source": [
    "km.inertia_"
   ]
  },
  {
   "cell_type": "markdown",
   "id": "c853dceb",
   "metadata": {},
   "source": [
    "Plot a scatter plot of your data assignet to each cluster. Also plot the centroids"
   ]
  },
  {
   "cell_type": "code",
   "execution_count": 24,
   "id": "b56ee382",
   "metadata": {},
   "outputs": [
    {
     "data": {
      "image/png": "[encoded data removed]",
      "text/plain": [
       "<Figure size 432x288 with 1 Axes>"
      ]
     },
     "metadata": {
      "needs_background": "light"
     },
     "output_type": "display_data"
    }
   ],
   "source": [
    "df1 = df[df.Cluster==0]\n",
    "df2 = df[df.Cluster==1]\n",
    "\n",
    "plt.scatter(df1.x1,df1.x2, label = \"Cluster 0\", alpha = 0.5)\n",
    "plt.scatter(df2.x1, df2.x2, label = \"Cluster 1\", alpha = 0.5)\n",
    "plt.scatter(kmc[:,0],kmc[:,1], marker = \"X\", color = \"Purple\", s = 200)\n",
    "\n",
    "plt.title(\"Mediciones con cluster asignado y centroides\")\n",
    "\n",
    "plt.xlabel(\"x1\")\n",
    "plt.ylabel(\"x2\")\n",
    "plt.legend()\n",
    "\n",
    "plt.show()"
   ]
  },
  {
   "cell_type": "markdown",
   "id": "28f6fcad",
   "metadata": {},
   "source": [
    "**Questions**\n",
    "\n",
    "Provide a detailed description of your results\n",
    "\n",
    "En esta caso, dividiendolo en dos grupos podemos ver como la figura es dividida a la mitad de manera horizontal en vez de separar ambas secciones de la figura. Esto se debe en primer lugar a la aleatoriedad que presenta la función de KMeans así como la posición de los centroides asignados funcionando como una especie de promedio."
   ]
  },
  {
   "cell_type": "markdown",
   "id": "6b91d2b1",
   "metadata": {},
   "source": [
    "## A5 Elbow Plot\n",
    "\n",
    "Compute the elbow plot"
   ]
  },
  {
   "cell_type": "code",
   "execution_count": 25,
   "id": "85ee453a",
   "metadata": {},
   "outputs": [
    {
     "name": "stderr",
     "output_type": "stream",
     "text": [
      "C:\\Users\\GeekD\\anaconda3\\lib\\site-packages\\sklearn\\cluster\\_kmeans.py:1382: UserWarning: KMeans is known to have a memory leak on Windows with MKL, when there are less chunks than available threads. You can avoid it by setting the environment variable OMP_NUM_THREADS=4.\n",
      "  warnings.warn(\n",
      "C:\\Users\\GeekD\\anaconda3\\lib\\site-packages\\sklearn\\cluster\\_kmeans.py:1382: UserWarning: KMeans is known to have a memory leak on Windows with MKL, when there are less chunks than available threads. You can avoid it by setting the environment variable OMP_NUM_THREADS=4.\n",
      "  warnings.warn(\n",
      "C:\\Users\\GeekD\\anaconda3\\lib\\site-packages\\sklearn\\cluster\\_kmeans.py:1382: UserWarning: KMeans is known to have a memory leak on Windows with MKL, when there are less chunks than available threads. You can avoid it by setting the environment variable OMP_NUM_THREADS=4.\n",
      "  warnings.warn(\n",
      "C:\\Users\\GeekD\\anaconda3\\lib\\site-packages\\sklearn\\cluster\\_kmeans.py:1382: UserWarning: KMeans is known to have a memory leak on Windows with MKL, when there are less chunks than available threads. You can avoid it by setting the environment variable OMP_NUM_THREADS=4.\n",
      "  warnings.warn(\n",
      "C:\\Users\\GeekD\\anaconda3\\lib\\site-packages\\sklearn\\cluster\\_kmeans.py:1382: UserWarning: KMeans is known to have a memory leak on Windows with MKL, when there are less chunks than available threads. You can avoid it by setting the environment variable OMP_NUM_THREADS=4.\n",
      "  warnings.warn(\n",
      "C:\\Users\\GeekD\\anaconda3\\lib\\site-packages\\sklearn\\cluster\\_kmeans.py:1382: UserWarning: KMeans is known to have a memory leak on Windows with MKL, when there are less chunks than available threads. You can avoid it by setting the environment variable OMP_NUM_THREADS=4.\n",
      "  warnings.warn(\n",
      "C:\\Users\\GeekD\\anaconda3\\lib\\site-packages\\sklearn\\cluster\\_kmeans.py:1382: UserWarning: KMeans is known to have a memory leak on Windows with MKL, when there are less chunks than available threads. You can avoid it by setting the environment variable OMP_NUM_THREADS=4.\n",
      "  warnings.warn(\n",
      "C:\\Users\\GeekD\\anaconda3\\lib\\site-packages\\sklearn\\cluster\\_kmeans.py:1382: UserWarning: KMeans is known to have a memory leak on Windows with MKL, when there are less chunks than available threads. You can avoid it by setting the environment variable OMP_NUM_THREADS=4.\n",
      "  warnings.warn(\n",
      "C:\\Users\\GeekD\\anaconda3\\lib\\site-packages\\sklearn\\cluster\\_kmeans.py:1382: UserWarning: KMeans is known to have a memory leak on Windows with MKL, when there are less chunks than available threads. You can avoid it by setting the environment variable OMP_NUM_THREADS=4.\n",
      "  warnings.warn(\n",
      "C:\\Users\\GeekD\\anaconda3\\lib\\site-packages\\sklearn\\cluster\\_kmeans.py:1382: UserWarning: KMeans is known to have a memory leak on Windows with MKL, when there are less chunks than available threads. You can avoid it by setting the environment variable OMP_NUM_THREADS=4.\n",
      "  warnings.warn(\n"
     ]
    }
   ],
   "source": [
    "#Init list of sse\n",
    "SSE = []\n",
    "#Define K\n",
    "K = [1,2,3,4,5,6,7,8,9,10]\n",
    "#For each K\n",
    "for x in K:\n",
    "    tempkm = KMeans(n_clusters = x, n_init=\"auto\")\n",
    "    tempkm.fit_predict(df.iloc[:, 0:4]) \n",
    "    SSE.append(tempkm.inertia_)"
   ]
  },
  {
   "cell_type": "code",
   "execution_count": 26,
   "id": "3554fdde",
   "metadata": {},
   "outputs": [
    {
     "data": {
      "image/png": "[encoded data removed]",
      "text/plain": [
       "<Figure size 432x288 with 1 Axes>"
      ]
     },
     "metadata": {
      "needs_background": "light"
     },
     "output_type": "display_data"
    }
   ],
   "source": [
    "# Plot sse vs K\n",
    "plt.plot(range(0,10),SSE, marker = \"X\")\n",
    "plt.show()\n",
    "\n"
   ]
  },
  {
   "cell_type": "code",
   "execution_count": 27,
   "id": "0bf94109",
   "metadata": {},
   "outputs": [
    {
     "data": {
      "image/png": "[encoded data removed]",
      "text/plain": [
       "<Figure size 432x288 with 1 Axes>"
      ]
     },
     "metadata": {
      "needs_background": "light"
     },
     "output_type": "display_data"
    }
   ],
   "source": [
    "df1 = df[df.Cluster==0]\n",
    "df2 = df[df.Cluster==1]\n",
    "df3 = df[df.Cluster==2]\n",
    "df4 = df[df.Cluster==3]\n",
    "df5 = df[df.Cluster==4]\n",
    "df6 = df[df.Cluster==5]\n",
    "df7 = df[df.Cluster==6]\n",
    "df8 = df[df.Cluster==7]\n",
    "df9 = df[df.Cluster==8]\n",
    "df10 = df[df.Cluster==9]\n",
    "\n",
    "plt.scatter(df1.x1,df1.x2, label = \"Cluster 0\", alpha = 0.3)\n",
    "plt.scatter(df2.x1, df2.x2, label = \"Cluster 1\", alpha = 0.3)\n",
    "plt.scatter(df2.x1, df2.x2, label = \"Cluster 2\", alpha = 0.3)\n",
    "plt.scatter(df2.x1, df2.x2, label = \"Cluster 3\", alpha = 0.3)\n",
    "plt.scatter(df2.x1, df2.x2, label = \"Cluster 4\", alpha = 0.3)\n",
    "plt.scatter(df2.x1, df2.x2, label = \"Cluster 5\", alpha = 0.3)\n",
    "plt.scatter(df2.x1, df2.x2, label = \"Cluster 6\", alpha = 0.3)\n",
    "plt.scatter(df2.x1, df2.x2, label = \"Cluster 7\", alpha = 0.3)\n",
    "plt.scatter(df2.x1, df2.x2, label = \"Cluster 8\", alpha = 0.3)\n",
    "plt.scatter(df2.x1, df2.x2, label = \"Cluster 9\", alpha = 0.3)\n",
    "\n",
    "plt.scatter(kmc[:,0],kmc[:,1], marker = \"X\", color = \"Purple\", s = 200)\n",
    "\n",
    "plt.title(\"Mediciones con cluster asignado y centroides\")\n",
    "\n",
    "plt.xlabel(\"x1\")\n",
    "plt.ylabel(\"x2\")\n",
    "plt.legend()\n",
    "\n",
    "plt.show()"
   ]
  },
  {
   "cell_type": "markdown",
   "id": "6a61d141",
   "metadata": {},
   "source": [
    "## Questions\n",
    "\n",
    "__**What is the best number of clusters K?**__\n",
    "En este caso el mejor número de clusters se encuentra entre 5 y 7. Como podemos observar en la gráfica los valores del error cuadrático no descienden mucho más después de pasar este rango.\n",
    "\n",
    "\n",
    "__**Does this number of clusters agree with your initial guess?**__\n",
    "Para nada, al iniciar indiqué dos clusters únicamente debido a la figura que se formaba al graficar los datos, dando una especie de \"S\" o de espiral dividida en dos secciones."
   ]
  },
  {
   "cell_type": "markdown",
   "id": "c01752f7",
   "metadata": {},
   "source": [
    "# Part 2"
   ]
  },
  {
   "cell_type": "markdown",
   "id": "13bf9520",
   "metadata": {},
   "source": [
    "1) Load the dataset using \"load_digits()\" from \"sklearn.datasets\""
   ]
  },
  {
   "cell_type": "code",
   "execution_count": 28,
   "id": "0ee0e551",
   "metadata": {},
   "outputs": [
    {
     "data": {
      "text/html": [
       "<div>\n",
       "<style scoped>\n",
       "    .dataframe tbody tr th:only-of-type {\n",
       "        vertical-align: middle;\n",
       "    }\n",
       "\n",
       "    .dataframe tbody tr th {\n",
       "        vertical-align: top;\n",
       "    }\n",
       "\n",
       "    .dataframe thead th {\n",
       "        text-align: right;\n",
       "    }\n",
       "</style>\n",
       "<table border=\"1\" class=\"dataframe\">\n",
       "  <thead>\n",
       "    <tr style=\"text-align: right;\">\n",
       "      <th></th>\n",
       "      <th>pixel_0_0</th>\n",
       "      <th>pixel_0_1</th>\n",
       "      <th>pixel_0_2</th>\n",
       "      <th>pixel_0_3</th>\n",
       "      <th>pixel_0_4</th>\n",
       "      <th>pixel_0_5</th>\n",
       "      <th>pixel_0_6</th>\n",
       "      <th>pixel_0_7</th>\n",
       "      <th>pixel_1_0</th>\n",
       "      <th>pixel_1_1</th>\n",
       "      <th>...</th>\n",
       "      <th>pixel_6_7</th>\n",
       "      <th>pixel_7_0</th>\n",
       "      <th>pixel_7_1</th>\n",
       "      <th>pixel_7_2</th>\n",
       "      <th>pixel_7_3</th>\n",
       "      <th>pixel_7_4</th>\n",
       "      <th>pixel_7_5</th>\n",
       "      <th>pixel_7_6</th>\n",
       "      <th>pixel_7_7</th>\n",
       "      <th>target</th>\n",
       "    </tr>\n",
       "  </thead>\n",
       "  <tbody>\n",
       "    <tr>\n",
       "      <th>0</th>\n",
       "      <td>0.0</td>\n",
       "      <td>0.0</td>\n",
       "      <td>5.0</td>\n",
       "      <td>13.0</td>\n",
       "      <td>9.0</td>\n",
       "      <td>1.0</td>\n",
       "      <td>0.0</td>\n",
       "      <td>0.0</td>\n",
       "      <td>0.0</td>\n",
       "      <td>0.0</td>\n",
       "      <td>...</td>\n",
       "      <td>0.0</td>\n",
       "      <td>0.0</td>\n",
       "      <td>0.0</td>\n",
       "      <td>6.0</td>\n",
       "      <td>13.0</td>\n",
       "      <td>10.0</td>\n",
       "      <td>0.0</td>\n",
       "      <td>0.0</td>\n",
       "      <td>0.0</td>\n",
       "      <td>0.0</td>\n",
       "    </tr>\n",
       "    <tr>\n",
       "      <th>1</th>\n",
       "      <td>0.0</td>\n",
       "      <td>0.0</td>\n",
       "      <td>0.0</td>\n",
       "      <td>12.0</td>\n",
       "      <td>13.0</td>\n",
       "      <td>5.0</td>\n",
       "      <td>0.0</td>\n",
       "      <td>0.0</td>\n",
       "      <td>0.0</td>\n",
       "      <td>0.0</td>\n",
       "      <td>...</td>\n",
       "      <td>0.0</td>\n",
       "      <td>0.0</td>\n",
       "      <td>0.0</td>\n",
       "      <td>0.0</td>\n",
       "      <td>11.0</td>\n",
       "      <td>16.0</td>\n",
       "      <td>10.0</td>\n",
       "      <td>0.0</td>\n",
       "      <td>0.0</td>\n",
       "      <td>1.0</td>\n",
       "    </tr>\n",
       "    <tr>\n",
       "      <th>2</th>\n",
       "      <td>0.0</td>\n",
       "      <td>0.0</td>\n",
       "      <td>0.0</td>\n",
       "      <td>4.0</td>\n",
       "      <td>15.0</td>\n",
       "      <td>12.0</td>\n",
       "      <td>0.0</td>\n",
       "      <td>0.0</td>\n",
       "      <td>0.0</td>\n",
       "      <td>0.0</td>\n",
       "      <td>...</td>\n",
       "      <td>0.0</td>\n",
       "      <td>0.0</td>\n",
       "      <td>0.0</td>\n",
       "      <td>0.0</td>\n",
       "      <td>3.0</td>\n",
       "      <td>11.0</td>\n",
       "      <td>16.0</td>\n",
       "      <td>9.0</td>\n",
       "      <td>0.0</td>\n",
       "      <td>2.0</td>\n",
       "    </tr>\n",
       "    <tr>\n",
       "      <th>3</th>\n",
       "      <td>0.0</td>\n",
       "      <td>0.0</td>\n",
       "      <td>7.0</td>\n",
       "      <td>15.0</td>\n",
       "      <td>13.0</td>\n",
       "      <td>1.0</td>\n",
       "      <td>0.0</td>\n",
       "      <td>0.0</td>\n",
       "      <td>0.0</td>\n",
       "      <td>8.0</td>\n",
       "      <td>...</td>\n",
       "      <td>0.0</td>\n",
       "      <td>0.0</td>\n",
       "      <td>0.0</td>\n",
       "      <td>7.0</td>\n",
       "      <td>13.0</td>\n",
       "      <td>13.0</td>\n",
       "      <td>9.0</td>\n",
       "      <td>0.0</td>\n",
       "      <td>0.0</td>\n",
       "      <td>3.0</td>\n",
       "    </tr>\n",
       "    <tr>\n",
       "      <th>4</th>\n",
       "      <td>0.0</td>\n",
       "      <td>0.0</td>\n",
       "      <td>0.0</td>\n",
       "      <td>1.0</td>\n",
       "      <td>11.0</td>\n",
       "      <td>0.0</td>\n",
       "      <td>0.0</td>\n",
       "      <td>0.0</td>\n",
       "      <td>0.0</td>\n",
       "      <td>0.0</td>\n",
       "      <td>...</td>\n",
       "      <td>0.0</td>\n",
       "      <td>0.0</td>\n",
       "      <td>0.0</td>\n",
       "      <td>0.0</td>\n",
       "      <td>2.0</td>\n",
       "      <td>16.0</td>\n",
       "      <td>4.0</td>\n",
       "      <td>0.0</td>\n",
       "      <td>0.0</td>\n",
       "      <td>4.0</td>\n",
       "    </tr>\n",
       "    <tr>\n",
       "      <th>...</th>\n",
       "      <td>...</td>\n",
       "      <td>...</td>\n",
       "      <td>...</td>\n",
       "      <td>...</td>\n",
       "      <td>...</td>\n",
       "      <td>...</td>\n",
       "      <td>...</td>\n",
       "      <td>...</td>\n",
       "      <td>...</td>\n",
       "      <td>...</td>\n",
       "      <td>...</td>\n",
       "      <td>...</td>\n",
       "      <td>...</td>\n",
       "      <td>...</td>\n",
       "      <td>...</td>\n",
       "      <td>...</td>\n",
       "      <td>...</td>\n",
       "      <td>...</td>\n",
       "      <td>...</td>\n",
       "      <td>...</td>\n",
       "      <td>...</td>\n",
       "    </tr>\n",
       "    <tr>\n",
       "      <th>1792</th>\n",
       "      <td>0.0</td>\n",
       "      <td>0.0</td>\n",
       "      <td>4.0</td>\n",
       "      <td>10.0</td>\n",
       "      <td>13.0</td>\n",
       "      <td>6.0</td>\n",
       "      <td>0.0</td>\n",
       "      <td>0.0</td>\n",
       "      <td>0.0</td>\n",
       "      <td>1.0</td>\n",
       "      <td>...</td>\n",
       "      <td>0.0</td>\n",
       "      <td>0.0</td>\n",
       "      <td>0.0</td>\n",
       "      <td>2.0</td>\n",
       "      <td>14.0</td>\n",
       "      <td>15.0</td>\n",
       "      <td>9.0</td>\n",
       "      <td>0.0</td>\n",
       "      <td>0.0</td>\n",
       "      <td>9.0</td>\n",
       "    </tr>\n",
       "    <tr>\n",
       "      <th>1793</th>\n",
       "      <td>0.0</td>\n",
       "      <td>0.0</td>\n",
       "      <td>6.0</td>\n",
       "      <td>16.0</td>\n",
       "      <td>13.0</td>\n",
       "      <td>11.0</td>\n",
       "      <td>1.0</td>\n",
       "      <td>0.0</td>\n",
       "      <td>0.0</td>\n",
       "      <td>0.0</td>\n",
       "      <td>...</td>\n",
       "      <td>0.0</td>\n",
       "      <td>0.0</td>\n",
       "      <td>0.0</td>\n",
       "      <td>6.0</td>\n",
       "      <td>16.0</td>\n",
       "      <td>14.0</td>\n",
       "      <td>6.0</td>\n",
       "      <td>0.0</td>\n",
       "      <td>0.0</td>\n",
       "      <td>0.0</td>\n",
       "    </tr>\n",
       "    <tr>\n",
       "      <th>1794</th>\n",
       "      <td>0.0</td>\n",
       "      <td>0.0</td>\n",
       "      <td>1.0</td>\n",
       "      <td>11.0</td>\n",
       "      <td>15.0</td>\n",
       "      <td>1.0</td>\n",
       "      <td>0.0</td>\n",
       "      <td>0.0</td>\n",
       "      <td>0.0</td>\n",
       "      <td>0.0</td>\n",
       "      <td>...</td>\n",
       "      <td>0.0</td>\n",
       "      <td>0.0</td>\n",
       "      <td>0.0</td>\n",
       "      <td>2.0</td>\n",
       "      <td>9.0</td>\n",
       "      <td>13.0</td>\n",
       "      <td>6.0</td>\n",
       "      <td>0.0</td>\n",
       "      <td>0.0</td>\n",
       "      <td>8.0</td>\n",
       "    </tr>\n",
       "    <tr>\n",
       "      <th>1795</th>\n",
       "      <td>0.0</td>\n",
       "      <td>0.0</td>\n",
       "      <td>2.0</td>\n",
       "      <td>10.0</td>\n",
       "      <td>7.0</td>\n",
       "      <td>0.0</td>\n",
       "      <td>0.0</td>\n",
       "      <td>0.0</td>\n",
       "      <td>0.0</td>\n",
       "      <td>0.0</td>\n",
       "      <td>...</td>\n",
       "      <td>0.0</td>\n",
       "      <td>0.0</td>\n",
       "      <td>0.0</td>\n",
       "      <td>5.0</td>\n",
       "      <td>12.0</td>\n",
       "      <td>16.0</td>\n",
       "      <td>12.0</td>\n",
       "      <td>0.0</td>\n",
       "      <td>0.0</td>\n",
       "      <td>9.0</td>\n",
       "    </tr>\n",
       "    <tr>\n",
       "      <th>1796</th>\n",
       "      <td>0.0</td>\n",
       "      <td>0.0</td>\n",
       "      <td>10.0</td>\n",
       "      <td>14.0</td>\n",
       "      <td>8.0</td>\n",
       "      <td>1.0</td>\n",
       "      <td>0.0</td>\n",
       "      <td>0.0</td>\n",
       "      <td>0.0</td>\n",
       "      <td>2.0</td>\n",
       "      <td>...</td>\n",
       "      <td>0.0</td>\n",
       "      <td>0.0</td>\n",
       "      <td>1.0</td>\n",
       "      <td>8.0</td>\n",
       "      <td>12.0</td>\n",
       "      <td>14.0</td>\n",
       "      <td>12.0</td>\n",
       "      <td>1.0</td>\n",
       "      <td>0.0</td>\n",
       "      <td>8.0</td>\n",
       "    </tr>\n",
       "  </tbody>\n",
       "</table>\n",
       "<p>1797 rows × 65 columns</p>\n",
       "</div>"
      ],
      "text/plain": [
       "      pixel_0_0  pixel_0_1  pixel_0_2  pixel_0_3  pixel_0_4  pixel_0_5  \\\n",
       "0           0.0        0.0        5.0       13.0        9.0        1.0   \n",
       "1           0.0        0.0        0.0       12.0       13.0        5.0   \n",
       "2           0.0        0.0        0.0        4.0       15.0       12.0   \n",
       "3           0.0        0.0        7.0       15.0       13.0        1.0   \n",
       "4           0.0        0.0        0.0        1.0       11.0        0.0   \n",
       "...         ...        ...        ...        ...        ...        ...   \n",
       "1792        0.0        0.0        4.0       10.0       13.0        6.0   \n",
       "1793        0.0        0.0        6.0       16.0       13.0       11.0   \n",
       "1794        0.0        0.0        1.0       11.0       15.0        1.0   \n",
       "1795        0.0        0.0        2.0       10.0        7.0        0.0   \n",
       "1796        0.0        0.0       10.0       14.0        8.0        1.0   \n",
       "\n",
       "      pixel_0_6  pixel_0_7  pixel_1_0  pixel_1_1  ...  pixel_6_7  pixel_7_0  \\\n",
       "0           0.0        0.0        0.0        0.0  ...        0.0        0.0   \n",
       "1           0.0        0.0        0.0        0.0  ...        0.0        0.0   \n",
       "2           0.0        0.0        0.0        0.0  ...        0.0        0.0   \n",
       "3           0.0        0.0        0.0        8.0  ...        0.0        0.0   \n",
       "4           0.0        0.0        0.0        0.0  ...        0.0        0.0   \n",
       "...         ...        ...        ...        ...  ...        ...        ...   \n",
       "1792        0.0        0.0        0.0        1.0  ...        0.0        0.0   \n",
       "1793        1.0        0.0        0.0        0.0  ...        0.0        0.0   \n",
       "1794        0.0        0.0        0.0        0.0  ...        0.0        0.0   \n",
       "1795        0.0        0.0        0.0        0.0  ...        0.0        0.0   \n",
       "1796        0.0        0.0        0.0        2.0  ...        0.0        0.0   \n",
       "\n",
       "      pixel_7_1  pixel_7_2  pixel_7_3  pixel_7_4  pixel_7_5  pixel_7_6  \\\n",
       "0           0.0        6.0       13.0       10.0        0.0        0.0   \n",
       "1           0.0        0.0       11.0       16.0       10.0        0.0   \n",
       "2           0.0        0.0        3.0       11.0       16.0        9.0   \n",
       "3           0.0        7.0       13.0       13.0        9.0        0.0   \n",
       "4           0.0        0.0        2.0       16.0        4.0        0.0   \n",
       "...         ...        ...        ...        ...        ...        ...   \n",
       "1792        0.0        2.0       14.0       15.0        9.0        0.0   \n",
       "1793        0.0        6.0       16.0       14.0        6.0        0.0   \n",
       "1794        0.0        2.0        9.0       13.0        6.0        0.0   \n",
       "1795        0.0        5.0       12.0       16.0       12.0        0.0   \n",
       "1796        1.0        8.0       12.0       14.0       12.0        1.0   \n",
       "\n",
       "      pixel_7_7  target  \n",
       "0           0.0     0.0  \n",
       "1           0.0     1.0  \n",
       "2           0.0     2.0  \n",
       "3           0.0     3.0  \n",
       "4           0.0     4.0  \n",
       "...         ...     ...  \n",
       "1792        0.0     9.0  \n",
       "1793        0.0     0.0  \n",
       "1794        0.0     8.0  \n",
       "1795        0.0     9.0  \n",
       "1796        0.0     8.0  \n",
       "\n",
       "[1797 rows x 65 columns]"
      ]
     },
     "execution_count": 28,
     "metadata": {},
     "output_type": "execute_result"
    }
   ],
   "source": [
    "digits = load_digits()\n",
    "dfdig = pd.DataFrame(np.column_stack([digits['data'], digits['target']]), columns=digits['feature_names'] + ['target'])\n",
    "\n",
    "dfdig"
   ]
  },
  {
   "cell_type": "markdown",
   "id": "149856b0",
   "metadata": {},
   "source": [
    "2) Plot some of the observations"
   ]
  },
  {
   "cell_type": "code",
   "execution_count": 29,
   "id": "7be5596e",
   "metadata": {},
   "outputs": [
    {
     "data": {
      "image/png": "[encoded data removed]",
      "text/plain": [
       "<Figure size 432x288 with 1 Axes>"
      ]
     },
     "metadata": {
      "needs_background": "light"
     },
     "output_type": "display_data"
    },
    {
     "data": {
      "text/plain": [
       "<matplotlib.image.AxesImage at 0x27b7a170610>"
      ]
     },
     "execution_count": 29,
     "metadata": {},
     "output_type": "execute_result"
    },
    {
     "data": {
      "text/plain": [
       "<Figure size 432x288 with 0 Axes>"
      ]
     },
     "metadata": {},
     "output_type": "display_data"
    },
    {
     "data": {
      "image/png": "[encoded data removed]",
      "text/plain": [
       "<Figure size 288x288 with 1 Axes>"
      ]
     },
     "metadata": {
      "needs_background": "light"
     },
     "output_type": "display_data"
    }
   ],
   "source": [
    "plt.hist(dfdig.iloc[:100, 3])\n",
    "plt.xlabel(\"Valor del pixel\")\n",
    "plt.ylabel(\"Número de repeticiones\")\n",
    "plt.show()\n",
    "\n",
    "plt.gray()\n",
    "plt.matshow(digits.images[0])"
   ]
  },
  {
   "cell_type": "markdown",
   "id": "649fa15a",
   "metadata": {},
   "source": [
    "3) Do KMeans clustering"
   ]
  },
  {
   "cell_type": "code",
   "execution_count": 30,
   "id": "890a343a",
   "metadata": {},
   "outputs": [
    {
     "name": "stderr",
     "output_type": "stream",
     "text": [
      "C:\\Users\\GeekD\\anaconda3\\lib\\site-packages\\sklearn\\cluster\\_kmeans.py:1382: UserWarning: KMeans is known to have a memory leak on Windows with MKL, when there are less chunks than available threads. You can avoid it by setting the environment variable OMP_NUM_THREADS=8.\n",
      "  warnings.warn(\n"
     ]
    },
    {
     "data": {
      "image/png": "[encoded data removed]",
      "text/plain": [
       "<Figure size 432x288 with 1 Axes>"
      ]
     },
     "metadata": {
      "needs_background": "light"
     },
     "output_type": "display_data"
    }
   ],
   "source": [
    "K = 10\n",
    "\n",
    "km = KMeans(n_clusters = K, n_init=\"auto\", random_state = 10)\n",
    "\n",
    "clusters = km.fit_predict(dfdig)\n",
    "\n",
    "dfdig[\"Cluster\"] = clusters\n",
    "\n",
    "sns.scatterplot(data = dfdig, x = \"pixel_0_0\", y = \"pixel_0_1\", hue = \"Cluster\")\n",
    "\n",
    "plt.show()"
   ]
  },
  {
   "cell_type": "markdown",
   "id": "b0360580",
   "metadata": {},
   "source": [
    "4) Verify your results in any of the observations"
   ]
  },
  {
   "cell_type": "code",
   "execution_count": 31,
   "id": "cf525f2f",
   "metadata": {},
   "outputs": [
    {
     "name": "stdout",
     "output_type": "stream",
     "text": [
      "Target real:0\tPredicción: 6\n",
      "Target real:5\tPredicción: 3\n",
      "Target real:2\tPredicción: 7\n",
      "Target real:4\tPredicción: 9\n",
      "Target real:7\tPredicción: 4\n",
      "Target real:0\tPredicción: 6\n"
     ]
    }
   ],
   "source": [
    "indices = [0, 15, 2, 4, 17, 30]\n",
    "for i in indices:\n",
    "    print(\"Target real:\"+str(digits.target[i])+\"\\tPredicción: \"+str(clusters[i]))"
   ]
  },
  {
   "cell_type": "markdown",
   "id": "2eebcd36",
   "metadata": {},
   "source": [
    "## Questions\n",
    "\n",
    "Provides a detailed description of your results.\n",
    "\n",
    "load_digits() se trata de un datasets de sklearn en el que se encuentran como forma de matriz los valores de imágenes 8x8 pixeles de números escritos a mano. Graficarlos con un scatterplot claramente no brinda mucha información en esta caso ya que estamos graficando únicamente una fracción de la información, sin embargo, es posible mapearlo y visualizarlo con un matshow, permitiendonos mostrar la imagen en la interfaz."
   ]
  },
  {
   "cell_type": "markdown",
   "id": "7660c61b",
   "metadata": {},
   "source": [
    "# Part 3\n",
    "\n",
    "## Descripción de tu percepción del nivel de desarrollo de la subcompetencia\n",
    "\n",
    "\n",
    "**SING0202A Interpretación de variables**\n",
    "\n",
    "Escribe tu description del nivel de logro del siguiente criterio de la subcompetencia\n",
    "\n",
    "**Interpreta interacciones**. Interpreta interacciones entre variables relevantes en un problema, como base para la construcción de modelos bivariados basados en datos de un fenómeno investigado que le permita reproducir la respuesta del mismo."
   ]
  },
  {
   "cell_type": "markdown",
   "id": "be5cd8b5",
   "metadata": {},
   "source": [
    "Soy capaz de analizar conjuntos de datos según las columnas o según las figuras graficadas para preprocesar, segmentar y interpretar cualquier número de entradas de un archivo. De esta forma logro encontrar los posibles patrones entre las diferentes variables que puedan ser arrojadas, ayudándome a darle un mejor entendimiento a la información, así como el comportamiento estadístico de la misma."
   ]
  },
  {
   "cell_type": "markdown",
   "id": "6728d287",
   "metadata": {},
   "source": [
    "Escribe tu description del nivel de logro del siguiente criterio de la subcompetencia\n",
    "\n",
    "**Construcción de modelos**. Es capaz de construir modelos bivariados que expliquen el comportamiento de un fenómeno."
   ]
  },
  {
   "cell_type": "markdown",
   "id": "fbb95323",
   "metadata": {},
   "source": [
    "Puedo identificar y selccionar variables relevantes y crear una relación entre ellas, evaluar el comportamiento de las gráficas mostradas y ajustarlas para mejorar la calidad infiriendo a partir de los resultados.\n",
    "Me considero una persona con alto nivel de comprensión en cuanto a los modelos capaz de utilizar la analítica para realizar investigaciones rigurosas y tomar decisiones informadas basadas en datos."
   ]
  }
 ],
 "metadata": {
  "kernelspec": {
   "display_name": "Python 3 (ipykernel)",
   "language": "python",
   "name": "python3"
  },
  "language_info": {
   "codemirror_mode": {
    "name": "ipython",
    "version": 3
   },
   "file_extension": ".py",
   "mimetype": "text/x-python",
   "name": "python",
   "nbconvert_exporter": "python",
   "pygments_lexer": "ipython3",
   "version": "3.9.12"
  }
 },
 "nbformat": 4,
 "nbformat_minor": 5
}
